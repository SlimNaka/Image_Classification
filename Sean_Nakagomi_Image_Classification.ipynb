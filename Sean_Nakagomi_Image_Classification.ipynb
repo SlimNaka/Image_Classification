{
  "cells": [
    {
      "cell_type": "markdown",
      "metadata": {
        "id": "cOSJyABoshOK"
      },
      "source": [
        "## Introduction"
      ]
    },
    {
      "cell_type": "markdown",
      "metadata": {
        "id": "26hIPGtBsi7g"
      },
      "source": [
        "Thanks to my old man not wanting to teach me his native language when I was a young child, my Japanese sucks. Reading is especially difficult and when reading handwritten characters, especially calligraphy, I'm practically illiterate.\n",
        "\n",
        "In this notebook, I will use the KMNIST dataset to see if we can differentiate between various hiragana characters in calligraphy."
      ]
    },
    {
      "cell_type": "markdown",
      "metadata": {
        "id": "dwvtDMCYlPus"
      },
      "source": [
        "## Import libraries"
      ]
    },
    {
      "cell_type": "code",
      "execution_count": 1,
      "metadata": {
        "id": "DQZAzYri_ru5",
        "colab": {
          "base_uri": "https://localhost:8080/"
        },
        "outputId": "f1a8cbd8-92e8-46c0-cce9-41b2e5dfae75"
      },
      "outputs": [
        {
          "output_type": "stream",
          "name": "stdout",
          "text": [
            "Requirement already satisfied: tensorflow-datasets in /usr/local/lib/python3.10/dist-packages (4.9.4)\n",
            "Requirement already satisfied: absl-py in /usr/local/lib/python3.10/dist-packages (from tensorflow-datasets) (1.4.0)\n",
            "Requirement already satisfied: click in /usr/local/lib/python3.10/dist-packages (from tensorflow-datasets) (8.1.7)\n",
            "Requirement already satisfied: dm-tree in /usr/local/lib/python3.10/dist-packages (from tensorflow-datasets) (0.1.8)\n",
            "Requirement already satisfied: etils[enp,epath,etree]>=0.9.0 in /usr/local/lib/python3.10/dist-packages (from tensorflow-datasets) (1.7.0)\n",
            "Requirement already satisfied: numpy in /usr/local/lib/python3.10/dist-packages (from tensorflow-datasets) (1.25.2)\n",
            "Requirement already satisfied: promise in /usr/local/lib/python3.10/dist-packages (from tensorflow-datasets) (2.3)\n",
            "Requirement already satisfied: protobuf>=3.20 in /usr/local/lib/python3.10/dist-packages (from tensorflow-datasets) (3.20.3)\n",
            "Requirement already satisfied: psutil in /usr/local/lib/python3.10/dist-packages (from tensorflow-datasets) (5.9.5)\n",
            "Requirement already satisfied: requests>=2.19.0 in /usr/local/lib/python3.10/dist-packages (from tensorflow-datasets) (2.31.0)\n",
            "Requirement already satisfied: tensorflow-metadata in /usr/local/lib/python3.10/dist-packages (from tensorflow-datasets) (1.15.0)\n",
            "Requirement already satisfied: termcolor in /usr/local/lib/python3.10/dist-packages (from tensorflow-datasets) (2.4.0)\n",
            "Requirement already satisfied: toml in /usr/local/lib/python3.10/dist-packages (from tensorflow-datasets) (0.10.2)\n",
            "Requirement already satisfied: tqdm in /usr/local/lib/python3.10/dist-packages (from tensorflow-datasets) (4.66.4)\n",
            "Requirement already satisfied: wrapt in /usr/local/lib/python3.10/dist-packages (from tensorflow-datasets) (1.14.1)\n",
            "Requirement already satisfied: array-record>=0.5.0 in /usr/local/lib/python3.10/dist-packages (from tensorflow-datasets) (0.5.1)\n",
            "Requirement already satisfied: fsspec in /usr/local/lib/python3.10/dist-packages (from etils[enp,epath,etree]>=0.9.0->tensorflow-datasets) (2023.6.0)\n",
            "Requirement already satisfied: importlib_resources in /usr/local/lib/python3.10/dist-packages (from etils[enp,epath,etree]>=0.9.0->tensorflow-datasets) (6.4.0)\n",
            "Requirement already satisfied: typing_extensions in /usr/local/lib/python3.10/dist-packages (from etils[enp,epath,etree]>=0.9.0->tensorflow-datasets) (4.12.0)\n",
            "Requirement already satisfied: zipp in /usr/local/lib/python3.10/dist-packages (from etils[enp,epath,etree]>=0.9.0->tensorflow-datasets) (3.19.0)\n",
            "Requirement already satisfied: charset-normalizer<4,>=2 in /usr/local/lib/python3.10/dist-packages (from requests>=2.19.0->tensorflow-datasets) (3.3.2)\n",
            "Requirement already satisfied: idna<4,>=2.5 in /usr/local/lib/python3.10/dist-packages (from requests>=2.19.0->tensorflow-datasets) (3.7)\n",
            "Requirement already satisfied: urllib3<3,>=1.21.1 in /usr/local/lib/python3.10/dist-packages (from requests>=2.19.0->tensorflow-datasets) (2.0.7)\n",
            "Requirement already satisfied: certifi>=2017.4.17 in /usr/local/lib/python3.10/dist-packages (from requests>=2.19.0->tensorflow-datasets) (2024.2.2)\n",
            "Requirement already satisfied: six in /usr/local/lib/python3.10/dist-packages (from promise->tensorflow-datasets) (1.16.0)\n",
            "Requirement already satisfied: keras_tuner in /usr/local/lib/python3.10/dist-packages (1.4.7)\n",
            "Requirement already satisfied: keras in /usr/local/lib/python3.10/dist-packages (from keras_tuner) (2.15.0)\n",
            "Requirement already satisfied: packaging in /usr/local/lib/python3.10/dist-packages (from keras_tuner) (24.0)\n",
            "Requirement already satisfied: requests in /usr/local/lib/python3.10/dist-packages (from keras_tuner) (2.31.0)\n",
            "Requirement already satisfied: kt-legacy in /usr/local/lib/python3.10/dist-packages (from keras_tuner) (1.0.5)\n",
            "Requirement already satisfied: charset-normalizer<4,>=2 in /usr/local/lib/python3.10/dist-packages (from requests->keras_tuner) (3.3.2)\n",
            "Requirement already satisfied: idna<4,>=2.5 in /usr/local/lib/python3.10/dist-packages (from requests->keras_tuner) (3.7)\n",
            "Requirement already satisfied: urllib3<3,>=1.21.1 in /usr/local/lib/python3.10/dist-packages (from requests->keras_tuner) (2.0.7)\n",
            "Requirement already satisfied: certifi>=2017.4.17 in /usr/local/lib/python3.10/dist-packages (from requests->keras_tuner) (2024.2.2)\n"
          ]
        }
      ],
      "source": [
        "import numpy as np\n",
        "import pandas as pd\n",
        "import matplotlib.pyplot as plt\n",
        "from PIL import Image\n",
        "\n",
        "!pip install tensorflow-datasets\n",
        "import tensorflow as tf\n",
        "import tensorflow_datasets as tfds\n",
        "\n",
        "!pip install keras_tuner\n",
        "import keras\n",
        "import keras_tuner\n",
        "from keras import layers, regularizers\n",
        "from keras.optimizers.legacy import Adam\n",
        "from keras.callbacks import EarlyStopping, TensorBoard\n",
        "\n",
        "import json\n",
        "from sklearn.metrics import confusion_matrix"
      ]
    },
    {
      "cell_type": "markdown",
      "metadata": {
        "id": "PQfz_To0dhYX"
      },
      "source": [
        "## The data"
      ]
    },
    {
      "cell_type": "markdown",
      "metadata": {
        "id": "v7Kz34aWiR-g"
      },
      "source": [
        "The data is from one of TensorFlow's built-in datasets: KMNIST.\n",
        "Translated homepage [here](http://codh.rois.ac.jp/kmnist/index.html.en).\n",
        "\n",
        "It is a replacement for the MNIST dataset (28x28 grayscale, 70,000 images), but due to the restriction of 10 classes (or labels), we have the following characters representing each of the 10 rows of Hiragana: お, き, す, つ, な, は, ま, や, れ, and を."
      ]
    },
    {
      "cell_type": "markdown",
      "metadata": {
        "id": "5qccuG8vy7Ja"
      },
      "source": [
        "## Load the data"
      ]
    },
    {
      "cell_type": "code",
      "source": [
        "(train_ds, test_ds), info = tfds.load(\n",
        "    'kmnist',\n",
        "    split=['train', 'test'],\n",
        "    with_info=True, # Download data with info\n",
        "    as_supervised=True, # Include labels\n",
        ")"
      ],
      "metadata": {
        "id": "x-fNx_H9ItSJ"
      },
      "execution_count": 2,
      "outputs": []
    },
    {
      "cell_type": "markdown",
      "metadata": {
        "id": "OHVSgzXFd4nf"
      },
      "source": [
        "## Explore the contents of the data sets"
      ]
    },
    {
      "cell_type": "markdown",
      "source": [
        "Let's see the dimensions of the data we're working with."
      ],
      "metadata": {
        "id": "Ac5HLj74fypj"
      }
    },
    {
      "cell_type": "code",
      "source": [
        "image_size = info.features['image'].shape\n",
        "num_classes = info.features['label'].num_classes\n",
        "data_size = info.splits['train'].num_examples\n",
        "\n",
        "print(image_size) # size of each image.\n",
        "print(num_classes) # ten classes/labels.\n",
        "print(data_size) # Total number of images."
      ],
      "metadata": {
        "colab": {
          "base_uri": "https://localhost:8080/"
        },
        "id": "IIA7Gk1-AhGz",
        "outputId": "07944b7f-30ef-4295-bd7e-593c186117cc"
      },
      "execution_count": 3,
      "outputs": [
        {
          "output_type": "stream",
          "name": "stdout",
          "text": [
            "(28, 28, 1)\n",
            "10\n",
            "60000\n"
          ]
        }
      ]
    },
    {
      "cell_type": "markdown",
      "source": [
        "Let's now get an example image for each of the ten labels."
      ],
      "metadata": {
        "id": "Sw97n_UmgNpH"
      }
    },
    {
      "cell_type": "code",
      "source": [
        "# Image plotter function\n",
        "def plot_label_images(images, labels, num_labels):\n",
        "    plt.figure(figsize=(10, 10))\n",
        "    for i in range(num_labels):\n",
        "        ax = plt.subplot(5, 5, i + 1)\n",
        "        plt.imshow(images[i], cmap='gray')\n",
        "        plt.title(str(labels[i]))\n",
        "        plt.axis('off')\n",
        "    plt.show()\n",
        "\n",
        "# Image Dictionary: one image per label\n",
        "label_images = {}\n",
        "num_labels = 10\n",
        "\n",
        "# Extract one image for each label\n",
        "for image, label in train_ds:\n",
        "    label = label.numpy()\n",
        "    if label not in label_images:\n",
        "        label_images[label] = image.numpy()\n",
        "    if len(label_images) == num_labels:\n",
        "        break\n",
        "\n",
        "# Prepare images and labels for plotting\n",
        "images = [label_images[label] for label in sorted(label_images.keys())]\n",
        "labels = sorted(label_images.keys())\n",
        "\n",
        "# Plot the images\n",
        "plot_label_images(images, labels, num_labels)\n",
        "\n",
        "# Recall [0, 1, 2, 3, 4, 5, 6, 7, 8, 9] = [お, き, す, つ, な, は, ま, や, れ, を]."
      ],
      "metadata": {
        "colab": {
          "base_uri": "https://localhost:8080/",
          "height": 351
        },
        "id": "EHKVLvWVelGK",
        "outputId": "c8d8001a-41fa-42b1-804a-9fea83ab8494"
      },
      "execution_count": 4,
      "outputs": [
        {
          "output_type": "display_data",
          "data": {
            "text/plain": [
              "<Figure size 1000x1000 with 10 Axes>"
            ],
            "image/png": "[encoded data removed]"
          },
          "metadata": {}
        }
      ]
    },
    {
      "cell_type": "markdown",
      "source": [
        "From the examples above and knowing the characters, I would make the guess that さ(2) and を(9) will have inaccuracies as well as き(1) and ま(6)."
      ],
      "metadata": {
        "id": "Y5kWSaYpcX9Z"
      }
    },
    {
      "cell_type": "markdown",
      "source": [
        "## Preprocessing"
      ],
      "metadata": {
        "id": "Oy2u9SicQvc_"
      }
    },
    {
      "cell_type": "markdown",
      "source": [
        "Now we have to get our images into a normalized 1D array before we can throw it into a Neural Network."
      ],
      "metadata": {
        "id": "WP81L5N-PRNA"
      }
    },
    {
      "cell_type": "code",
      "source": [
        "# Flattens images to 1D array\n",
        "def flatten_image(image):\n",
        "    return np.ravel(image)\n",
        "\n",
        "# Normalizes flattened images\n",
        "def normalize_image(image):\n",
        "    return image / 255.0\n",
        "\n",
        "# Performs both functions above on all images in our dataset\n",
        "def preprocess_dataset(dataset):\n",
        "    flattened_normalized_images = []\n",
        "    labels = []\n",
        "    for image, label in dataset:\n",
        "        flattened_image = flatten_image(image.numpy())\n",
        "        normalized_image = normalize_image(flattened_image)\n",
        "        flattened_normalized_images.append(normalized_image)\n",
        "        labels.append(label.numpy())\n",
        "    return np.array(flattened_normalized_images), np.array(labels)"
      ],
      "metadata": {
        "id": "GsyCLu6QuGoz"
      },
      "execution_count": 5,
      "outputs": []
    },
    {
      "cell_type": "markdown",
      "source": [
        "Let's split our newly flattend and normalized dataset into a train and test set then verify that we have the right dimensions for our images and their labels."
      ],
      "metadata": {
        "id": "E7R5JHG7iB0y"
      }
    },
    {
      "cell_type": "code",
      "source": [
        "X_train, y_train = preprocess_dataset(train_ds)\n",
        "X_test, y_test = preprocess_dataset(test_ds)\n",
        "\n",
        "print(f\"Flattened and normalized train images shape: {X_train.shape}\")\n",
        "print(f\"Train labels shape: {y_train.shape}\")\n",
        "print(f\"Flattened and normalized test images shape: {X_test.shape}\")\n",
        "print(f\"Test labels shape: {y_test.shape}\")"
      ],
      "metadata": {
        "colab": {
          "base_uri": "https://localhost:8080/"
        },
        "id": "j4oIYytJD1cv",
        "outputId": "d65781e5-3d6b-4312-ec9a-e8e6204da601"
      },
      "execution_count": 6,
      "outputs": [
        {
          "output_type": "stream",
          "name": "stdout",
          "text": [
            "Flattened and normalized train images shape: (60000, 784)\n",
            "Train labels shape: (60000,)\n",
            "Flattened and normalized test images shape: (10000, 784)\n",
            "Test labels shape: (10000,)\n"
          ]
        }
      ]
    },
    {
      "cell_type": "markdown",
      "source": [
        "## Custom Neural Networks"
      ],
      "metadata": {
        "id": "cTW1_-SLUcw0"
      }
    },
    {
      "cell_type": "markdown",
      "source": [
        "Now that our images are in the right format, we can pass them through a CNN!\n",
        "\n",
        "But first, we have to build a model that balances speed and accuracy."
      ],
      "metadata": {
        "id": "bCExu1Ybxa4y"
      }
    },
    {
      "cell_type": "markdown",
      "source": [
        "### Building the CNN:"
      ],
      "metadata": {
        "id": "3v8KCtEmjn8z"
      }
    },
    {
      "cell_type": "markdown",
      "source": [
        "We can build a very accurate model but it will cost some amount of speed. In the sections below, the codes with adjustable values will have ###comments indicating where we change the values, giving us a different speed/accuracy balance."
      ],
      "metadata": {
        "id": "-_jp3aMkn4CD"
      }
    },
    {
      "cell_type": "code",
      "source": [
        "def define_model(units, num_layers, activation, lr, l2):\n",
        "    model_layers = [\n",
        "        layers.Dense(units, activation=activation, kernel_regularizer=regularizers.L2(l2=l2), kernel_initializer=keras.initializers.HeNormal())\n",
        "        ] * num_layers  # These are the main hidden layers\n",
        "    model_layers += [layers.Dense(10)]  # This is the output layer, which should have the same size as the number of classes you are trying to predict\n",
        "    model = keras.Sequential(model_layers)  # This just stacks all our layers on top of each other\n",
        "    model.compile(loss=keras.losses.SparseCategoricalCrossentropy(from_logits=True),\n",
        "                  metrics=['accuracy'],\n",
        "                  optimizer=Adam(learning_rate=lr))  # This is a good loss/penalty function to use for multi-class classification\n",
        "\n",
        "    return model"
      ],
      "metadata": {
        "id": "d-0DDYV-lPKY"
      },
      "execution_count": 7,
      "outputs": []
    },
    {
      "cell_type": "code",
      "source": [
        "def build_model(hp):\n",
        "    units = hp.Choice(\"units\", [256, 512])\n",
        "    activation = \"relu\"   # We'll just use ReLu for now\n",
        "\n",
        "    lr = hp.Float(\"lr\", min_value=1e-5, max_value=1e-1, sampling=\"log\")  ### Adjustable min and max values\n",
        "    l2 = hp.Float(\"l2\", min_value=1e-5, max_value=1e-1, sampling=\"log\")  ### Adjustable L2 regularization range\n",
        "\n",
        "    num_layers = hp.Choice(\"num_layers\", [2, 3, 4, 5, 6])  ### Play around with the number of layers\n",
        "\n",
        "    # call existing model-building code with the hyperparameter values.\n",
        "    model = define_model(units=units, num_layers=num_layers, activation=activation, lr=lr, l2=l2)\n",
        "    return model"
      ],
      "metadata": {
        "id": "QmBPPOklF7xw"
      },
      "execution_count": 8,
      "outputs": []
    },
    {
      "cell_type": "code",
      "source": [
        "from google.colab import drive\n",
        "drive.mount('/content/drive', force_remount=True)"
      ],
      "metadata": {
        "colab": {
          "base_uri": "https://localhost:8080/"
        },
        "id": "dWZJGB9RIx_x",
        "outputId": "c9500925-90d8-4ca5-90be-bfca8306a828"
      },
      "execution_count": 9,
      "outputs": [
        {
          "output_type": "stream",
          "name": "stdout",
          "text": [
            "Mounted at /content/drive\n"
          ]
        }
      ]
    },
    {
      "cell_type": "code",
      "source": [
        "tuner = keras_tuner.BayesianOptimization(\n",
        "    hypermodel=build_model,\n",
        "    objective=\"val_loss\", # We want to see accuracy improve on the validation (or test) dataset\n",
        "    max_trials=12,  ### How many parameter combinations you want to try (lower is faster but less accurate)\n",
        "    executions_per_trial=1,\n",
        "    overwrite=False,\n",
        "    directory=\"/content/drive/MyDrive/models/kmnist_sweep_3\", # Save the output somewhere you've created. CHANGE NUMBER FOR EACH RUNTHROUGH.\n",
        ")"
      ],
      "metadata": {
        "id": "Zo0eysgwGBEY",
        "colab": {
          "base_uri": "https://localhost:8080/"
        },
        "outputId": "d2a57b9b-ebda-46a9-ff82-7905de5fd367"
      },
      "execution_count": 10,
      "outputs": [
        {
          "output_type": "stream",
          "name": "stdout",
          "text": [
            "Reloading Tuner from /content/drive/MyDrive/models/kmnist_sweep_3/untitled_project/tuner0.json\n"
          ]
        }
      ]
    },
    {
      "cell_type": "code",
      "source": [
        "# This is a \"callback\" function, which will get called at the end of every epoch to check whether the accuracy is still increasing.\n",
        "callbacks = [EarlyStopping(monitor=\"val_loss\", patience=2, restore_best_weights=True, start_from_epoch=5)] ### patience and start_from_epoch are adjustable."
      ],
      "metadata": {
        "id": "JP7r7UPbGDgD"
      },
      "execution_count": 11,
      "outputs": []
    },
    {
      "cell_type": "code",
      "source": [
        "tuner.search(\n",
        "    X_train,\n",
        "    y_train,\n",
        "    epochs=12, ###(lower is faster but less accurate)\n",
        "    verbose=1, #1 to view status, 0 to hide.\n",
        "    validation_data=(X_test, y_test),\n",
        "    callbacks=callbacks\n",
        ")"
      ],
      "metadata": {
        "id": "af6x92j-GF3N"
      },
      "execution_count": 12,
      "outputs": []
    },
    {
      "cell_type": "markdown",
      "source": [
        "Now that we passed the images through the Neural Network multiple times, let's check which trial gave us the best results and look at the confusion matrix that shows the accuracy of our model."
      ],
      "metadata": {
        "id": "VR5Aky8Bo-ve"
      }
    },
    {
      "cell_type": "code",
      "source": [
        "# Examining the top 3 results\n",
        "tuner.results_summary(3)"
      ],
      "metadata": {
        "colab": {
          "base_uri": "https://localhost:8080/"
        },
        "id": "blBzP4BLGuEt",
        "outputId": "9864e325-9666-45a8-cfb9-abafcd29246c"
      },
      "execution_count": 13,
      "outputs": [
        {
          "output_type": "stream",
          "name": "stdout",
          "text": [
            "Results summary\n",
            "Results in /content/drive/MyDrive/models/kmnist_sweep_3/untitled_project\n",
            "Showing 3 best trials\n",
            "Objective(name=\"val_loss\", direction=\"min\")\n",
            "\n",
            "Trial 08 summary\n",
            "Hyperparameters:\n",
            "units: 512\n",
            "lr: 0.0006430777171446815\n",
            "l2: 2.7025729174738344e-05\n",
            "num_layers: 3\n",
            "Score: 0.37801069021224976\n",
            "\n",
            "Trial 09 summary\n",
            "Hyperparameters:\n",
            "units: 512\n",
            "lr: 0.0002339907073111066\n",
            "l2: 0.0002540679935199547\n",
            "num_layers: 5\n",
            "Score: 0.3838600814342499\n",
            "\n",
            "Trial 04 summary\n",
            "Hyperparameters:\n",
            "units: 256\n",
            "lr: 5.186297414751111e-05\n",
            "l2: 8.228404304578192e-05\n",
            "num_layers: 5\n",
            "Score: 0.5322481989860535\n"
          ]
        }
      ]
    },
    {
      "cell_type": "markdown",
      "source": [
        "After playing around with the numbers, the best model was trial number 08 from the KMNIST sweep 3 file. Let's load it in to make a prediction."
      ],
      "metadata": {
        "id": "hCMcZVrcrrCG"
      }
    },
    {
      "cell_type": "code",
      "source": [
        "trial_num = \"08\"\n",
        "with open(f\"/content/drive/MyDrive/models/kmnist_sweep_3/untitled_project/trial_{trial_num}/trial.json\", \"r\") as f: # VERIFY SWEEP NUMBER\n",
        "    trial = json.load(f)\n",
        "hp = trial[\"hyperparameters\"][\"values\"]\n",
        "model = define_model(units=hp[\"units\"], num_layers=hp[\"num_layers\"], activation=\"relu\", lr=hp[\"lr\"],\n",
        "                     l2=hp[\"l2\"])\n",
        "model.load_weights(f\"/content/drive/MyDrive/models/kmnist_sweep_3/untitled_project/trial_{trial_num}/checkpoint\") # VERIFY SWEEP NUMBER"
      ],
      "metadata": {
        "colab": {
          "base_uri": "https://localhost:8080/"
        },
        "id": "B3FvBmJ8Uvjd",
        "outputId": "d5f0463d-2ed0-4fe8-c9f5-44270d7f5e74"
      },
      "execution_count": 14,
      "outputs": [
        {
          "output_type": "execute_result",
          "data": {
            "text/plain": [
              "<tensorflow.python.checkpoint.checkpoint.CheckpointLoadStatus at 0x7d0a3021ef50>"
            ]
          },
          "metadata": {},
          "execution_count": 14
        }
      ]
    },
    {
      "cell_type": "markdown",
      "source": [
        "Confusion Matrix"
      ],
      "metadata": {
        "id": "geJyzxmKr4vg"
      }
    },
    {
      "cell_type": "code",
      "source": [
        "y_pred = np.argmax(model.predict(X_test), axis=1)\n",
        "cm = confusion_matrix(y_test, y_pred)\n",
        "accuracy = sum(y_pred == y_test) / len(y_test)\n",
        "print(accuracy)\n",
        "print(cm)"
      ],
      "metadata": {
        "colab": {
          "base_uri": "https://localhost:8080/"
        },
        "id": "Fy9R-jipUvV7",
        "outputId": "7b468bdc-86cc-4749-d9b0-4f0e2b621971"
      },
      "execution_count": 15,
      "outputs": [
        {
          "output_type": "stream",
          "name": "stdout",
          "text": [
            "313/313 [==============================] - 3s 4ms/step\n",
            "0.9052\n",
            "[[912   4   1   4  23  18   8  19  10   1]\n",
            " [  1 895   9   3  11   6  42   2  10  21]\n",
            " [ 10  11 850  58   8  15  13   6  17  12]\n",
            " [  2   4  17 960   1   6   3   3   3   1]\n",
            " [ 22  24   3  11 887  11  20   4  13   5]\n",
            " [  6  11  31  11   6 921  10   0   2   2]\n",
            " [  3   6  17  13   8   6 944   0   2   1]\n",
            " [ 15  18  12   4   9   6  24 872  20  20]\n",
            " [  7  23   5  36   2   6   7   1 909   4]\n",
            " [  9   8  20   5  25   1  15   1  14 902]]\n"
          ]
        }
      ]
    },
    {
      "cell_type": "markdown",
      "source": [
        "Here, we can see that the model is pretty accurate. We went from being able to randomly guess correctly 10% of the time to now predicting over 90% correctly.\n",
        "\n",
        "We can see nice chunky values along the diagonals, showing the correct predictions, but there are still some existing inaccuracies (code below will again show the ten labels for reference). The two highest being す(2) mistaken for つ(3) and き(1) mistaken for ま(6), one of my initial guesses. My other guess of さ(2) and を(9) seems above average when it comes to the number of wrong predictions, but certainly not the highest.\n",
        "\n",
        "For き(1) and ま(6), we can see the similarities in modern text as well as in the examples below, but す(2) and つ(3) look almost nothing alike in both cases.\n",
        "\n",
        "Another thing of interest is the difference between the top six inaccurate entries and their transposed counterparts: i.e. the pair す(2), つ(3) and the pair つ(3), す(2). In all six cases, the counterparts were no more than half of their respective top-value entries.\n",
        "\n",
        "If Colab provided higher computing power for the same free price, I would have liked to try to increase the number of layers to see if these top innacuracies would change and if so, by how much."
      ],
      "metadata": {
        "id": "xOzvpyCcl1xR"
      }
    },
    {
      "cell_type": "code",
      "source": [
        "plot_label_images(images, labels, num_labels)"
      ],
      "metadata": {
        "id": "JZjtEiADmlYI",
        "colab": {
          "base_uri": "https://localhost:8080/",
          "height": 351
        },
        "outputId": "1e422014-e8b3-47b5-f548-6b00b35cc0e9"
      },
      "execution_count": 16,
      "outputs": [
        {
          "output_type": "display_data",
          "data": {
            "text/plain": [
              "<Figure size 1000x1000 with 10 Axes>"
            ],
            "image/png": "[encoded data removed]"
          },
          "metadata": {}
        }
      ]
    },
    {
      "cell_type": "markdown",
      "source": [
        "## Conclusion"
      ],
      "metadata": {
        "id": "upq6xesej4MP"
      }
    },
    {
      "cell_type": "markdown",
      "source": [
        "This notebook presents an approach to image classification using a CNN. We first demonstrated the process of image preprocessing of flattening and normalization. Then, after running the images through multiple CNNs with different combinations of lr and l2 min/max values as well as differing numbers of layers, trials, and epochs, we arrived at a model with 90.52% predictive accuracy and visualized it using a confusion matrix.\n",
        "\n",
        "While reading calligraphy will still be incredibly difficult for me, perhaps having the ability to know, with 90% accuracy, which consonant group a character belongs to will help with reading via context or process of elimination.\n"
      ],
      "metadata": {
        "id": "dnQkvmnxWMBy"
      }
    }
  ],
  "metadata": {
    "colab": {
      "provenance": []
    },
    "kernelspec": {
      "display_name": "Python 3",
      "name": "python3"
    },
    "language_info": {
      "name": "python"
    }
  },
  "nbformat": 4,
  "nbformat_minor": 0
}